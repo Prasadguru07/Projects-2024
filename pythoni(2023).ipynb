{
 "cells": [
  {
   "cell_type": "code",
   "execution_count": 3,
   "id": "70cc560d-90d5-44fa-852e-494b33102b1c",
   "metadata": {},
   "outputs": [
    {
     "name": "stdout",
     "output_type": "stream",
     "text": [
      "Welcome to Scientific Calculator!\n",
      "Available operations:\n",
      "1. Addition (+)\n",
      "2. Subtraction (-)\n",
      "3. Multiplication (*)\n",
      "4. Division (/)\n",
      "5. Exponentiation (x^y)\n",
      "6. Square root (√)\n",
      "7. Trigonometric functions (sin, cos, tan)\n"
     ]
    },
    {
     "name": "stdin",
     "output_type": "stream",
     "text": [
      "Enter operation number or function:  7\n",
      "Enter trigonometric function (sin, cos, tan):  sin\n",
      "Enter angle in degrees:  30\n"
     ]
    },
    {
     "name": "stdout",
     "output_type": "stream",
     "text": [
      "Result: 0.49999999999999994\n"
     ]
    }
   ],
   "source": [
    "import math\n",
    "\n",
    "def calculator():\n",
    "    print(\"Welcome to Scientific Calculator!\")\n",
    "    print(\"Available operations:\")\n",
    "    print(\"1. Addition (+)\")\n",
    "    print(\"2. Subtraction (-)\")\n",
    "    print(\"3. Multiplication (*)\")\n",
    "    print(\"4. Division (/)\")\n",
    "    print(\"5. Exponentiation (x^y)\")\n",
    "    print(\"6. Square root (√)\")\n",
    "    print(\"7. Trigonometric functions (sin, cos, tan)\")\n",
    "\n",
    "    choice = input(\"Enter operation number or function: \")\n",
    "\n",
    "    if choice in ['1', '2', '3', '4', '5']:\n",
    "        num1 = float(input(\"Enter the first number: \"))\n",
    "        num2 = float(input(\"Enter the second number: \"))\n",
    "        \n",
    "        if choice == '1':\n",
    "            result = num1 + num2\n",
    "            print(\"Result:\", result)\n",
    "        elif choice == '2':\n",
    "            result = num1 - num2\n",
    "            print(\"Result:\", result)\n",
    "        elif choice == '3':\n",
    "            result = num1 * num2\n",
    "            print(\"Result:\", result)\n",
    "        elif choice == '4':\n",
    "            if num2 != 0:\n",
    "                result = num1 / num2\n",
    "                print(\"Result:\", result)\n",
    "            else:\n",
    "                print(\"Error! Division by zero.\")\n",
    "        elif choice == '5':\n",
    "            result = num1 ** num2\n",
    "            print(\"Result:\", result)\n",
    "    \n",
    "    elif choice == '6':\n",
    "        num = float(input(\"Enter number: \"))\n",
    "        if num >= 0:\n",
    "            result = math.sqrt(num)\n",
    "            print(\"Square root:\", result)\n",
    "        else:\n",
    "            print(\"Error! Enter a non-negative number for square root.\")\n",
    "    \n",
    "    elif choice == '7':\n",
    "        trig_function = input(\"Enter trigonometric function (sin, cos, tan): \")\n",
    "        angle = float(input(\"Enter angle in degrees: \"))\n",
    "        \n",
    "        if trig_function == 'sin':\n",
    "            result = math.sin(math.radians(angle))\n",
    "            print(\"Result:\", result)\n",
    "        elif trig_function == 'cos':\n",
    "            result = math.cos(math.radians(angle))\n",
    "            print(\"Result:\", result)\n",
    "        elif trig_function == 'tan':\n",
    "            result = math.tan(math.radians(angle))\n",
    "            print(\"Result:\", result)\n",
    "        else:\n",
    "            print(\"Invalid function! Please enter sin, cos, or tan.\")\n",
    "\n",
    "    else:\n",
    "        print(\"Invalid input! Please enter a valid operation number.\")\n",
    "\n",
    "calculator()\n"
   ]
  },
  {
   "cell_type": "code",
   "execution_count": null,
   "id": "ff7deee2-696c-4f4b-84a6-e3bba8e5e0a8",
   "metadata": {},
   "outputs": [],
   "source": []
  }
 ],
 "metadata": {
  "kernelspec": {
   "display_name": "Python 3 (ipykernel)",
   "language": "python",
   "name": "python3"
  },
  "language_info": {
   "codemirror_mode": {
    "name": "ipython",
    "version": 3
   },
   "file_extension": ".py",
   "mimetype": "text/x-python",
   "name": "python",
   "nbconvert_exporter": "python",
   "pygments_lexer": "ipython3",
   "version": "3.11.5"
  }
 },
 "nbformat": 4,
 "nbformat_minor": 5
}
